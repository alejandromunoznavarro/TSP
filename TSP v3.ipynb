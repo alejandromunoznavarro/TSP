{
 "cells": [
  {
   "cell_type": "markdown",
   "metadata": {},
   "source": [
    "# The Travelling Salesman Problem (TSP)"
   ]
  },
  {
   "cell_type": "markdown",
   "metadata": {},
   "source": [
    "## Librerías"
   ]
  },
  {
   "cell_type": "code",
   "execution_count": 115,
   "metadata": {},
   "outputs": [],
   "source": [
    "import os\n",
    "import sys\n",
    "import math\n",
    "from matplotlib import pyplot as plt\n",
    "import numpy as np\n",
    "\n",
    "import random"
   ]
  },
  {
   "cell_type": "markdown",
   "metadata": {},
   "source": [
    "## Leer archivo"
   ]
  },
  {
   "cell_type": "code",
   "execution_count": 113,
   "metadata": {},
   "outputs": [],
   "source": [
    "def leer_fichero(file_path):\n",
    "    \n",
    "    # Lista para guardar las posiciones\n",
    "    positions = []\n",
    "    if not os.path.isfile(file_path):\n",
    "        print(\"ERROR - no se ha encontrado el fichero\")\n",
    "        sys.exit()\n",
    "\n",
    "    with open(file_path, \"r\") as file:\n",
    "        for line in file:\n",
    "            if line is not None:\n",
    "                if line[0].isdigit():\n",
    "\n",
    "                    line = line.strip()\n",
    "                    line_elements = line.split()\n",
    "                    positions.append((float(line_elements[1]), float(line_elements[2])))\n",
    "\n",
    "    # Extrae el fichero\n",
    "    file_name = os.path.basename(file_path)\n",
    "\n",
    "    return positions, file_name"
   ]
  },
  {
   "cell_type": "markdown",
   "metadata": {},
   "source": [
    "## Calcular la matriz de pesos"
   ]
  },
  {
   "cell_type": "code",
   "execution_count": 3,
   "metadata": {},
   "outputs": [],
   "source": [
    "def get_distances(positions:list):\n",
    "    distances = np.zeros((len(positions),len(positions)))\n",
    "    npuntos = len(positions)\n",
    "    for i in range(npuntos):\n",
    "        for j in range(npuntos):\n",
    "            if positions[j][0]==positions[i][0] and positions[j][1] == positions[i][1]:\n",
    "                aux = np.inf\n",
    "            else:\n",
    "                aux = math.sqrt(math.pow((positions[j][0]-positions[i][0]),2)+math.pow((positions[j][1]-positions[i][1]),2))\n",
    "            distances[i][j] = aux\n",
    "    return distances"
   ]
  },
  {
   "cell_type": "markdown",
   "metadata": {},
   "source": [
    "## Pintar resultado"
   ]
  },
  {
   "cell_type": "code",
   "execution_count": 85,
   "metadata": {},
   "outputs": [],
   "source": [
    "def pintar(positions,path):\n",
    "    for position in positions:\n",
    "        plt.plot(position[0],position[1], marker=\"o\", color=\"red\")\n",
    "    x = []\n",
    "    y = []\n",
    "    for i in path:\n",
    "        position = positions[i]\n",
    "        x.append(position[0])\n",
    "        y.append(position[1])\n",
    "    \n",
    "    plt.plot(x,y,linestyle='solid',color='green')\n",
    "    plt.show()\n",
    "    "
   ]
  },
  {
   "cell_type": "markdown",
   "metadata": {},
   "source": [
    "# Ant colony optimization algorithm"
   ]
  },
  {
   "cell_type": "code",
   "execution_count": 5,
   "metadata": {},
   "outputs": [],
   "source": [
    "class Grafo(object):\n",
    "    def __init__(self, distances: list, num_hormigas, alpha, beta,Q):\n",
    "        self.distances = distances\n",
    "        self.npuntos = len(distances)\n",
    "        self.visitados = []\n",
    "        self.permitidos = [i for i in range(0,self.npuntos)]\n",
    "        self.alpha = alpha\n",
    "        self.beta = beta\n",
    "        self.Q = Q\n",
    "        \n",
    "        # Inicializamos el grafo con un nodo aleatorio\n",
    "        inicial = random.randint(0,self.npuntos-1)\n",
    "        # Añadimos el nodo inicial a la lista de visitados\n",
    "        self.visitados.append(inicial)\n",
    "        # Ponemos el puntero del nodo actual en el nodo inicial\n",
    "        self.actual = inicial\n",
    "        # Eliminamos el nodo inicial de la lista de permitidos\n",
    "        self.permitidos.remove(inicial)\n",
    "        # Inicializamos la distancia total a 0\n",
    "        self.distancia_total = 0\n",
    "\n",
    "        # Calculamos el camino escogiendo aquel camino que sea el más corto\n",
    "        while len(self.permitidos) != 0:\n",
    "            minimo = np.inf\n",
    "            siguiente = -1\n",
    "            for i in self.permitidos:\n",
    "                if self.distances[self.actual][i]<minimo:\n",
    "                    minimo = self.distances[self.actual][i]\n",
    "                    siguiente = i\n",
    "            self.permitidos.remove(siguiente)\n",
    "            self.visitados.append(siguiente)\n",
    "            self.distancia_total += minimo\n",
    "            self.actual = siguiente\n",
    "\n",
    "        # Añadimos de nuevo el nodo inicial para cerrar el camino\n",
    "        self.visitados.append(inicial)\n",
    "        self.distancia_total += self.distances[self.actual][inicial]\n",
    "\n",
    "        # Inicializamos las feromonas como (num_hormigas*Q)/(npuntos * distancia_camino_minimo)\n",
    "        self.feromonas = [[(num_hormigas*self.Q)/(self.npuntos*self.distancia_total) for i in range(self.npuntos)] for j in range(self.npuntos)] \n"
   ]
  },
  {
   "cell_type": "code",
   "execution_count": 6,
   "metadata": {},
   "outputs": [],
   "source": [
    "class Colonia(object):\n",
    "    def __init__(self,num_hormigas,iteraciones,rho):\n",
    "        self.num_hormigas = num_hormigas\n",
    "        self.iteraciones = iteraciones\n",
    "        self.rho = rho\n",
    "        \n",
    "    # Actualiza las feromonas\n",
    "    # τxy = (1-ρ)τxy + ΣΔτxy\n",
    "    def actualiza_feromonas(self, grafo:Grafo, hormigas: list):\n",
    "        for i, fila in enumerate(grafo.feromonas):\n",
    "            for j, columna in enumerate(fila):\n",
    "                grafo.feromonas[i][j] *= 1-self.rho\n",
    "                for hormiga in hormigas:\n",
    "                    grafo.feromonas[i][j] += hormiga.feromonas[i][j]\n",
    "    \n",
    "    def resolver(self,grafo:Grafo):\n",
    "        minimo = np.inf\n",
    "        solucion = []\n",
    "        for i in range(self.iteraciones):\n",
    "            hormigas = [Hormiga(self,grafo) for id_hormiga in range(self.num_hormigas)]\n",
    "            for hormiga in hormigas:\n",
    "                for nodo in range(grafo.npuntos - 1):\n",
    "                    hormiga.selecciona_nodo()\n",
    "                \n",
    "                hormiga.distancia_total += grafo.distances[hormiga.visitados[-1]][hormiga.visitados[0]]\n",
    "                hormiga.visitados.append(hormiga.visitados[0])\n",
    "                if hormiga.distancia_total < minimo:\n",
    "                    minimo = hormiga.distancia_total\n",
    "                    solucion = hormiga.visitados\n",
    "              \n",
    "                # Calcula las delta_feromonas (Δτxy) para el cálculo que realizaremos a continuación\n",
    "                hormiga.delta_feromonas()\n",
    "                \n",
    "            # Una vez que la hormiga llega a su destino, se debe actualizar las feromonas de cada camino \n",
    "            # respecto al desgaste o evaporación ρ y si pasó la hormiga por el camino dejando feromonas.\n",
    "            self.actualiza_feromonas(grafo,hormigas)\n",
    "            \n",
    "        return solucion, minimo"
   ]
  },
  {
   "cell_type": "code",
   "execution_count": 110,
   "metadata": {},
   "outputs": [],
   "source": [
    "class Hormiga(object):\n",
    "    def __init__(self, colonia: Colonia, grafo: Grafo):\n",
    "        #self.colonia = colonia # colonia\n",
    "        self.grafo = grafo\n",
    "        self.distancia_total = 0.0\n",
    "        self.visitados = []\n",
    "        self.feromonas = []\n",
    "        self.permitidos = [i for i in range(grafo.npuntos)]\n",
    "        \n",
    "        # Situamos a la hormiga en un nodo aleatorio del grafo\n",
    "        inicio = random.randint(0, grafo.npuntos - 1)\n",
    "        # Añadimos el nodo a la lista de visitados por la hormiga\n",
    "        self.visitados.append(inicio)\n",
    "        # Situamos el puntero del nodo actual en el nodo de inicio\n",
    "        self.actual = inicio\n",
    "        # Eliminamo el nodo inicial de la lista de permitidos\n",
    "        self.permitidos.remove(inicio)\n",
    "    \n",
    "    # Selecciona un nodo\n",
    "    # Para calcular el posible camino a tomar de una hormiga, se utiliza la Ecuación:\n",
    "    # Pxy = (τ(e)*N(e))/(Στ(e)*N(e)), donde τ(e) son las feromonas depositadas por ese\n",
    "    # camino (A a B), N(e) es la visibilidad del camino dado por N(e) = 1/peso_del_camino,\n",
    "    # y el denominador de esta ecuación siendo la suma del cálculo anterior (τ(e)*N(e)) de\n",
    "    # todos los posibles que tiene esa hormiga\n",
    "    def selecciona_nodo(self):\n",
    "        N = 1/self.grafo.distances\n",
    "        numerador = []\n",
    "        denominador = 0\n",
    "        for i in self.permitidos:\n",
    "            aux = (self.grafo.feromonas[self.actual][i]**self.grafo.alpha)*(N[self.actual][i]**self.grafo.beta)\n",
    "            denominador += aux\n",
    "            numerador.append(aux)\n",
    "        P = numerador/denominador\n",
    "        peso_minimo = -1\n",
    "        nodo_minimo = -1\n",
    "        for i,p in enumerate(P):\n",
    "            if p>peso_minimo:\n",
    "                peso_minimo = p\n",
    "                nodo_minimo = self.permitidos[i]\n",
    "        \n",
    "        self.permitidos.remove(nodo_minimo)\n",
    "        self.visitados.append(nodo_minimo)\n",
    "        self.distancia_total += self.grafo.distances[self.actual][nodo_minimo]\n",
    "        self.actual = nodo_minimo\n",
    "    \n",
    "    # Calcula las Δτxy como Q/Lk si se usó xy ó 0 en caso contrario\n",
    "    def delta_feromonas(self):\n",
    "        self.feromonas = [[0 for j in range(self.grafo.npuntos)] for i in range(self.grafo.npuntos)]\n",
    "        for i in range(0,len(self.visitados)-1):\n",
    "            nodo = self.visitados[i]\n",
    "            siguiente = self.visitados[i+1]\n",
    "            # Q es el parámetro de aprendizaje y Lk (distancia total) es el costo del camino por hormiga\n",
    "            self.feromonas[nodo][siguiente] = self.grafo.Q/self.distancia_total"
   ]
  },
  {
   "cell_type": "markdown",
   "metadata": {},
   "source": [
    "# Ejecución"
   ]
  },
  {
   "cell_type": "markdown",
   "metadata": {},
   "source": [
    "## Leemos el archivo y lo mostramos"
   ]
  },
  {
   "cell_type": "code",
   "execution_count": 8,
   "metadata": {},
   "outputs": [],
   "source": [
    "positions, fname = leer_fichero(\"./wi29.tsp\")"
   ]
  },
  {
   "cell_type": "code",
   "execution_count": 9,
   "metadata": {},
   "outputs": [
    {
     "data": {
      "image/png": "[encoded data removed]",
      "text/plain": [
       "<Figure size 432x288 with 1 Axes>"
      ]
     },
     "metadata": {
      "needs_background": "light"
     },
     "output_type": "display_data"
    }
   ],
   "source": [
    "for position in positions:\n",
    "    plt.plot(position[0],position[1], marker=\"o\", color=\"red\")\n",
    "plt.show()"
   ]
  },
  {
   "cell_type": "markdown",
   "metadata": {},
   "source": [
    "## Calculamos la matriz de distancias:"
   ]
  },
  {
   "cell_type": "code",
   "execution_count": 10,
   "metadata": {},
   "outputs": [],
   "source": [
    "distances = get_distances(positions)"
   ]
  },
  {
   "cell_type": "markdown",
   "metadata": {},
   "source": [
    "## Definimos los Parámetros:"
   ]
  },
  {
   "cell_type": "code",
   "execution_count": 11,
   "metadata": {},
   "outputs": [],
   "source": [
    "# Parámetros\n",
    "num_hormigas = [5, 10, 20]\n",
    "iteraciones = 625\n",
    "rho = [0.15, 0.25, 0.5]\n",
    "q = [0.3, 0.6, 0.9]\n",
    "alpha = [0.05, 0.1, 0.35]\n",
    "beta = [0.5, 1, 2]"
   ]
  },
  {
   "cell_type": "markdown",
   "metadata": {},
   "source": [
    "## Buscamos el camino más corto"
   ]
  },
  {
   "cell_type": "code",
   "execution_count": 12,
   "metadata": {},
   "outputs": [],
   "source": [
    "def buscar(d,m,r,q,a,b):\n",
    "\n",
    "    colonia = Colonia(m,iteraciones,r)\n",
    "    grafo = Grafo(d,m,a,b,Q)\n",
    "    camino,longitud = colonia.resolver(grafo)\n",
    "    return camino,longitud"
   ]
  },
  {
   "cell_type": "markdown",
   "metadata": {},
   "source": [
    "### Debido al warning RunTime, se ha optado por ejecutar el programa poco a poco para diferentes parámetros"
   ]
  },
  {
   "cell_type": "code",
   "execution_count": 59,
   "metadata": {},
   "outputs": [],
   "source": [
    "caminos1 = []\n",
    "longitudes1 = []\n",
    "for m in num_hormigas:\n",
    "    for r in rho:\n",
    "        a = alpha[0]\n",
    "        Q = q[0]\n",
    "        b = beta[0]\n",
    "        d = distances.copy()\n",
    "        camino,longitud = buscar(d,m,r,Q,a,b)\n",
    "        caminos1.append(camino)\n",
    "        longitudes1.append(longitud)"
   ]
  },
  {
   "cell_type": "code",
   "execution_count": 14,
   "metadata": {},
   "outputs": [],
   "source": [
    "caminos2 = []\n",
    "longitudes2 = []\n",
    "for m in num_hormigas:\n",
    "    for r in rho:\n",
    "        a = alpha[0]\n",
    "        Q = q[0]\n",
    "        b = beta[1]\n",
    "        d = distances.copy()\n",
    "        camino,longitud = buscar(d,m,r,Q,a,b)\n",
    "        caminos2.append(camino)\n",
    "        longitudes2.append(longitud)"
   ]
  },
  {
   "cell_type": "code",
   "execution_count": 15,
   "metadata": {},
   "outputs": [],
   "source": [
    "caminos3 = []\n",
    "longitudes3 = []\n",
    "\n",
    "for m in num_hormigas:\n",
    "    for r in rho:\n",
    "        a = alpha[0]\n",
    "        Q = q[0]\n",
    "        b = beta[2]\n",
    "        d = distances.copy()\n",
    "        camino,longitud = buscar(d,m,r,Q,a,b)\n",
    "        caminos3.append(camino)\n",
    "        longitudes3.append(longitud)"
   ]
  },
  {
   "cell_type": "code",
   "execution_count": 16,
   "metadata": {},
   "outputs": [],
   "source": [
    "caminos4 = []\n",
    "longitudes4 = []\n",
    "\n",
    "for m in num_hormigas:\n",
    "    for r in rho:\n",
    "        a = alpha[0]\n",
    "        Q = q[1]\n",
    "        b = beta[0]\n",
    "        d = distances.copy()\n",
    "        camino,longitud = buscar(d,m,r,Q,a,b)\n",
    "        caminos4.append(camino)\n",
    "        longitudes4.append(longitud)"
   ]
  },
  {
   "cell_type": "code",
   "execution_count": 17,
   "metadata": {},
   "outputs": [],
   "source": [
    "caminos5 = []\n",
    "longitudes5 = []\n",
    "\n",
    "for m in num_hormigas:\n",
    "    for r in rho:\n",
    "        a = alpha[0]\n",
    "        Q = q[1]\n",
    "        b = beta[1]\n",
    "        d = distances.copy()\n",
    "        camino,longitud = buscar(d,m,r,Q,a,b)\n",
    "        caminos5.append(camino)\n",
    "        longitudes5.append(longitud)"
   ]
  },
  {
   "cell_type": "code",
   "execution_count": 18,
   "metadata": {},
   "outputs": [],
   "source": [
    "caminos6 = []\n",
    "longitudes6 = []\n",
    "\n",
    "for m in num_hormigas:\n",
    "    for r in rho:\n",
    "        a = alpha[0]\n",
    "        Q = q[1]\n",
    "        b = beta[2]\n",
    "        d = distances.copy()\n",
    "        camino,longitud = buscar(d,m,r,Q,a,b)\n",
    "        caminos6.append(camino)\n",
    "        longitudes6.append(longitud)"
   ]
  },
  {
   "cell_type": "code",
   "execution_count": 19,
   "metadata": {},
   "outputs": [],
   "source": [
    "caminos7 = []\n",
    "longitudes7 = []\n",
    "\n",
    "for m in num_hormigas:\n",
    "    for r in rho:\n",
    "        a = alpha[0]\n",
    "        Q = q[2]\n",
    "        b = beta[0]\n",
    "        d = distances.copy()\n",
    "        camino,longitud = buscar(d,m,r,Q,a,b)\n",
    "        caminos7.append(camino)\n",
    "        longitudes7.append(longitud)"
   ]
  },
  {
   "cell_type": "code",
   "execution_count": 20,
   "metadata": {},
   "outputs": [],
   "source": [
    "caminos8 = []\n",
    "longitudes8 = []\n",
    "\n",
    "for m in num_hormigas:\n",
    "    for r in rho:\n",
    "        a = alpha[0]\n",
    "        Q = q[2]\n",
    "        b = beta[1]\n",
    "        d = distances.copy()\n",
    "        camino,longitud = buscar(d,m,r,Q,a,b)\n",
    "        caminos8.append(camino)\n",
    "        longitudes8.append(longitud)"
   ]
  },
  {
   "cell_type": "code",
   "execution_count": 21,
   "metadata": {},
   "outputs": [],
   "source": [
    "caminos9 = []\n",
    "longitudes9 = []\n",
    "\n",
    "for m in num_hormigas:\n",
    "    for r in rho:\n",
    "        a = alpha[0]\n",
    "        Q = q[0]\n",
    "        b = beta[0]\n",
    "        d = distances.copy()\n",
    "        camino,longitud = buscar(d,m,r,Q,a,b)\n",
    "        caminos9.append(camino)\n",
    "        longitudes9.append(longitud)"
   ]
  },
  {
   "cell_type": "code",
   "execution_count": 22,
   "metadata": {},
   "outputs": [],
   "source": [
    "caminos10 = []\n",
    "longitudes10 = []\n",
    "\n",
    "for m in num_hormigas:\n",
    "    for r in rho:\n",
    "        a = alpha[0]\n",
    "        Q = q[2]\n",
    "        b = beta[2]\n",
    "        d = distances.copy()\n",
    "        camino,longitud = buscar(d,m,r,Q,a,b)\n",
    "        caminos10.append(camino)\n",
    "        longitudes10.append(longitud)"
   ]
  },
  {
   "cell_type": "code",
   "execution_count": 23,
   "metadata": {},
   "outputs": [],
   "source": [
    "caminos11 = []\n",
    "longitudes11 = []\n",
    "\n",
    "for m in num_hormigas:\n",
    "    for r in rho:\n",
    "        a = alpha[1]\n",
    "        Q = q[0]\n",
    "        b = beta[0]\n",
    "        d = distances.copy()\n",
    "        camino,longitud = buscar(d,m,r,Q,a,b)\n",
    "        caminos11.append(camino)\n",
    "        longitudes11.append(longitud)"
   ]
  },
  {
   "cell_type": "code",
   "execution_count": 24,
   "metadata": {},
   "outputs": [],
   "source": [
    "caminos12 = []\n",
    "longitudes12 = []\n",
    "\n",
    "for m in num_hormigas:\n",
    "    for r in rho:\n",
    "        a = alpha[1]\n",
    "        Q = q[0]\n",
    "        b = beta[1]\n",
    "        d = distances.copy()\n",
    "        camino,longitud = buscar(d,m,r,Q,a,b)\n",
    "        caminos12.append(camino)\n",
    "        longitudes12.append(longitud)"
   ]
  },
  {
   "cell_type": "code",
   "execution_count": 25,
   "metadata": {},
   "outputs": [],
   "source": [
    "caminos13 = []\n",
    "longitudes13 = []\n",
    "\n",
    "for m in num_hormigas:\n",
    "    for r in rho:\n",
    "        a = alpha[1]\n",
    "        Q = q[0]\n",
    "        b = beta[2]\n",
    "        d = distances.copy()\n",
    "        camino,longitud = buscar(d,m,r,Q,a,b)\n",
    "        caminos13.append(camino)\n",
    "        longitudes13.append(longitud)"
   ]
  },
  {
   "cell_type": "code",
   "execution_count": 26,
   "metadata": {},
   "outputs": [],
   "source": [
    "caminos14 = []\n",
    "longitudes14 = []\n",
    "\n",
    "for m in num_hormigas:\n",
    "    for r in rho:\n",
    "        a = alpha[1]\n",
    "        Q = q[1]\n",
    "        b = beta[0]\n",
    "        d = distances.copy()\n",
    "        camino,longitud = buscar(d,m,r,Q,a,b)\n",
    "        caminos14.append(camino)\n",
    "        longitudes14.append(longitud)"
   ]
  },
  {
   "cell_type": "code",
   "execution_count": 27,
   "metadata": {},
   "outputs": [],
   "source": [
    "caminos15 = []\n",
    "longitudes15 = []\n",
    "\n",
    "for m in num_hormigas:\n",
    "    for r in rho:\n",
    "        a = alpha[1]\n",
    "        Q = q[1]\n",
    "        b = beta[1]\n",
    "        d = distances.copy()\n",
    "        camino,longitud = buscar(d,m,r,Q,a,b)\n",
    "        caminos15.append(camino)\n",
    "        longitudes15.append(longitud)"
   ]
  },
  {
   "cell_type": "code",
   "execution_count": 28,
   "metadata": {},
   "outputs": [],
   "source": [
    "caminos16 = []\n",
    "longitudes16 = []\n",
    "\n",
    "for m in num_hormigas:\n",
    "    for r in rho:\n",
    "        a = alpha[1]\n",
    "        Q = q[1]\n",
    "        b = beta[2]\n",
    "        d = distances.copy()\n",
    "        camino,longitud = buscar(d,m,r,Q,a,b)\n",
    "        caminos16.append(camino)\n",
    "        longitudes16.append(longitud)"
   ]
  },
  {
   "cell_type": "code",
   "execution_count": 29,
   "metadata": {},
   "outputs": [],
   "source": [
    "caminos17 = []\n",
    "longitudes17 = []\n",
    "\n",
    "for m in num_hormigas:\n",
    "    for r in rho:\n",
    "        a = alpha[1]\n",
    "        Q = q[2]\n",
    "        b = beta[0]\n",
    "        d = distances.copy()\n",
    "        camino,longitud = buscar(d,m,r,Q,a,b)\n",
    "        caminos17.append(camino)\n",
    "        longitudes17.append(longitud)"
   ]
  },
  {
   "cell_type": "code",
   "execution_count": 30,
   "metadata": {},
   "outputs": [],
   "source": [
    "caminos18 = []\n",
    "longitudes18 = []\n",
    "\n",
    "for m in num_hormigas:\n",
    "    for r in rho:\n",
    "        a = alpha[1]\n",
    "        Q = q[2]\n",
    "        b = beta[1]\n",
    "        d = distances.copy()\n",
    "        camino,longitud = buscar(d,m,r,Q,a,b)\n",
    "        caminos18.append(camino)\n",
    "        longitudes18.append(longitud)"
   ]
  },
  {
   "cell_type": "code",
   "execution_count": 31,
   "metadata": {},
   "outputs": [],
   "source": [
    "caminos19 = []\n",
    "longitudes19 = []\n",
    "\n",
    "for m in num_hormigas:\n",
    "    for r in rho:\n",
    "        a = alpha[1]\n",
    "        Q = q[2]\n",
    "        b = beta[2]\n",
    "        d = distances.copy()\n",
    "        camino,longitud = buscar(d,m,r,Q,a,b)\n",
    "        caminos19.append(camino)\n",
    "        longitudes19.append(longitud) "
   ]
  },
  {
   "cell_type": "code",
   "execution_count": 32,
   "metadata": {},
   "outputs": [],
   "source": [
    "caminos20 = []\n",
    "longitudes20 = []\n",
    "\n",
    "for m in num_hormigas:\n",
    "    for r in rho:\n",
    "        a = alpha[2]\n",
    "        Q = q[0]\n",
    "        b = beta[0]\n",
    "        d = distances.copy()\n",
    "        camino,longitud = buscar(d,m,r,Q,a,b)\n",
    "        caminos20.append(camino)\n",
    "        longitudes20.append(longitud)"
   ]
  },
  {
   "cell_type": "code",
   "execution_count": 33,
   "metadata": {},
   "outputs": [],
   "source": [
    "caminos21 = []\n",
    "longitudes21 = []\n",
    "\n",
    "for m in num_hormigas:\n",
    "    for r in rho:\n",
    "        a = alpha[2]\n",
    "        Q = q[0]\n",
    "        b = beta[1]\n",
    "        d = distances.copy()\n",
    "        camino,longitud = buscar(d,m,r,Q,a,b)\n",
    "        caminos21.append(camino)\n",
    "        longitudes21.append(longitud)"
   ]
  },
  {
   "cell_type": "code",
   "execution_count": 34,
   "metadata": {},
   "outputs": [],
   "source": [
    "caminos22 = []\n",
    "longitudes22 = []\n",
    "\n",
    "for m in num_hormigas:\n",
    "    for r in rho:\n",
    "        a = alpha[2]\n",
    "        Q = q[0]\n",
    "        b = beta[2]\n",
    "        d = distances.copy()\n",
    "        camino,longitud = buscar(d,m,r,Q,a,b)\n",
    "        caminos22.append(camino)\n",
    "        longitudes22.append(longitud)"
   ]
  },
  {
   "cell_type": "code",
   "execution_count": 35,
   "metadata": {},
   "outputs": [],
   "source": [
    "caminos23 = []\n",
    "longitudes23 = []\n",
    "\n",
    "for m in num_hormigas:\n",
    "    for r in rho:\n",
    "        a = alpha[2]\n",
    "        Q = q[1]\n",
    "        b = beta[0]\n",
    "        d = distances.copy()\n",
    "        camino,longitud = buscar(d,m,r,Q,a,b)\n",
    "        caminos23.append(camino)\n",
    "        longitudes23.append(longitud)"
   ]
  },
  {
   "cell_type": "code",
   "execution_count": 36,
   "metadata": {},
   "outputs": [],
   "source": [
    "caminos24 = []\n",
    "longitudes24 = []\n",
    "\n",
    "for m in num_hormigas:\n",
    "    for r in rho:\n",
    "        a = alpha[2]\n",
    "        Q = q[1]\n",
    "        b = beta[1]\n",
    "        d = distances.copy()\n",
    "        camino,longitud = buscar(d,m,r,Q,a,b)\n",
    "        caminos24.append(camino)\n",
    "        longitudes24.append(longitud)"
   ]
  },
  {
   "cell_type": "code",
   "execution_count": 37,
   "metadata": {},
   "outputs": [],
   "source": [
    "caminos25 = []\n",
    "longitudes25 = []\n",
    "\n",
    "for m in num_hormigas:\n",
    "    for r in rho:\n",
    "        a = alpha[2]\n",
    "        Q = q[1]\n",
    "        b = beta[2]\n",
    "        d = distances.copy()\n",
    "        camino,longitud = buscar(d,m,r,Q,a,b)\n",
    "        caminos25.append(camino)\n",
    "        longitudes25.append(longitud)"
   ]
  },
  {
   "cell_type": "code",
   "execution_count": 38,
   "metadata": {},
   "outputs": [],
   "source": [
    "caminos26 = []\n",
    "longitudes26 = []\n",
    "\n",
    "for m in num_hormigas:\n",
    "    for r in rho:\n",
    "        a = alpha[2]\n",
    "        Q = q[2]\n",
    "        b = beta[1]\n",
    "        d = distances.copy()\n",
    "        camino,longitud = buscar(d,m,r,Q,a,b)\n",
    "        caminos26.append(camino)\n",
    "        longitudes26.append(longitud)"
   ]
  },
  {
   "cell_type": "code",
   "execution_count": 39,
   "metadata": {},
   "outputs": [],
   "source": [
    "caminos27 = []\n",
    "longitudes27 = []\n",
    "\n",
    "for m in num_hormigas:\n",
    "    for r in rho:\n",
    "        a = alpha[2]\n",
    "        Q = q[2]\n",
    "        b = beta[1]\n",
    "        d = distances.copy()\n",
    "        camino,longitud = buscar(d,m,r,Q,a,b)\n",
    "        caminos27.append(camino)\n",
    "        longitudes27.append(longitud)"
   ]
  },
  {
   "cell_type": "code",
   "execution_count": 40,
   "metadata": {},
   "outputs": [],
   "source": [
    "caminos28 = []\n",
    "longitudes28 = []\n",
    "\n",
    "for m in num_hormigas:\n",
    "    for r in rho:\n",
    "        a = alpha[2]\n",
    "        Q = q[2]\n",
    "        b = beta[2]\n",
    "        d = distances.copy()\n",
    "        camino,longitud = buscar(d,m,r,Q,a,b)\n",
    "        caminos28.append(camino)\n",
    "        longitudes28.append(longitud)"
   ]
  },
  {
   "cell_type": "markdown",
   "metadata": {},
   "source": [
    "### Juntamos todos los caminos y longitudes en una sola lista"
   ]
  },
  {
   "cell_type": "code",
   "execution_count": 69,
   "metadata": {},
   "outputs": [
    {
     "name": "stdout",
     "output_type": "stream",
     "text": [
      "[[0, 1, 5, 4, 3, 7, 6, 8, 2, 12, 13, 16, 17, 18, 21, 22, 20, 28, 27, 25, 19, 15, 24, 26, 23, 14, 11, 9, 10, 0], [7, 3, 4, 5, 1, 0, 9, 10, 11, 12, 13, 16, 17, 18, 14, 21, 22, 20, 28, 27, 25, 19, 15, 24, 26, 23, 8, 6, 2, 7], [7, 3, 4, 5, 1, 0, 10, 9, 11, 12, 13, 16, 17, 18, 14, 21, 22, 20, 28, 27, 25, 19, 15, 24, 26, 23, 8, 6, 2, 7], [4, 3, 7, 6, 8, 2, 12, 13, 16, 17, 18, 21, 22, 20, 28, 27, 25, 19, 15, 24, 26, 23, 14, 11, 9, 10, 5, 1, 0, 4], [10, 9, 11, 7, 3, 4, 5, 1, 0, 2, 6, 8, 12, 13, 16, 17, 18, 21, 22, 20, 28, 27, 25, 19, 15, 24, 26, 23, 14, 10], [7, 3, 4, 5, 1, 0, 9, 10, 11, 12, 13, 16, 17, 18, 14, 21, 22, 20, 28, 27, 25, 19, 15, 24, 26, 23, 8, 6, 2, 7], [7, 3, 4, 5, 1, 0, 9, 10, 11, 12, 13, 16, 17, 18, 14, 21, 22, 20, 28, 27, 25, 19, 15, 24, 26, 23, 8, 6, 2, 7], [7, 3, 4, 5, 1, 0, 9, 10, 11, 12, 13, 16, 17, 18, 14, 21, 22, 20, 28, 27, 25, 19, 15, 24, 26, 23, 8, 6, 2, 7], [7, 3, 4, 5, 1, 0, 9, 10, 11, 12, 13, 16, 17, 18, 14, 21, 22, 20, 28, 27, 25, 19, 15, 24, 26, 23, 8, 6, 2, 7], [20, 22, 21, 17, 18, 14, 16, 13, 12, 11, 9, 10, 5, 1, 0, 4, 3, 7, 6, 8, 2, 15, 24, 26, 23, 19, 25, 27, 28, 20], [7, 3, 4, 5, 1, 0, 9, 10, 11, 12, 13, 16, 17, 18, 14, 21, 22, 20, 28, 27, 25, 19, 15, 24, 26, 23, 8, 6, 2, 7], [10, 9, 11, 12, 13, 16, 17, 18, 14, 21, 22, 20, 28, 27, 25, 19, 15, 24, 26, 23, 8, 6, 2, 3, 4, 7, 5, 1, 0, 10], [5, 1, 0, 4, 3, 7, 6, 8, 2, 12, 13, 16, 17, 18, 21, 22, 20, 28, 27, 25, 19, 15, 24, 26, 23, 14, 11, 9, 10, 5], [11, 7, 3, 4, 5, 1, 0, 9, 10, 14, 18, 17, 21, 22, 20, 28, 27, 25, 19, 15, 24, 26, 23, 13, 16, 12, 8, 6, 2, 11], [2, 6, 8, 12, 13, 16, 17, 18, 21, 22, 20, 28, 27, 25, 19, 15, 24, 26, 23, 14, 10, 9, 11, 7, 3, 4, 5, 1, 0, 2], [10, 9, 11, 7, 3, 4, 5, 1, 0, 2, 6, 8, 12, 13, 16, 17, 18, 21, 22, 20, 28, 27, 25, 19, 15, 24, 26, 23, 14, 10], [10, 9, 11, 7, 3, 4, 5, 1, 0, 2, 6, 8, 12, 13, 16, 17, 18, 21, 22, 20, 28, 27, 25, 19, 15, 24, 26, 23, 14, 10], [10, 9, 11, 7, 3, 4, 5, 1, 0, 2, 6, 8, 12, 13, 16, 17, 18, 21, 22, 20, 28, 27, 25, 19, 15, 24, 26, 23, 14, 10], [7, 3, 4, 5, 1, 0, 9, 10, 11, 12, 13, 16, 17, 18, 21, 22, 20, 28, 27, 25, 19, 15, 24, 26, 23, 14, 8, 6, 2, 7], [4, 3, 7, 6, 8, 2, 12, 13, 16, 17, 18, 21, 22, 20, 28, 27, 25, 19, 15, 24, 26, 23, 14, 11, 9, 10, 5, 1, 0, 4], [20, 21, 22, 28, 27, 25, 19, 16, 17, 18, 14, 10, 9, 11, 7, 3, 4, 5, 1, 0, 2, 6, 8, 12, 13, 15, 24, 26, 23, 20], [10, 9, 11, 7, 3, 4, 5, 1, 0, 2, 6, 8, 12, 13, 16, 17, 18, 21, 22, 20, 28, 27, 25, 19, 15, 24, 26, 23, 14, 10], [4, 3, 7, 6, 8, 2, 12, 13, 16, 17, 18, 21, 22, 20, 28, 27, 25, 19, 15, 24, 26, 23, 14, 11, 9, 10, 5, 1, 0, 4], [4, 3, 7, 6, 8, 2, 12, 13, 16, 17, 18, 21, 22, 20, 28, 27, 25, 19, 15, 24, 26, 23, 14, 11, 9, 10, 5, 1, 0, 4], [7, 3, 4, 5, 1, 0, 9, 10, 11, 12, 13, 16, 17, 18, 21, 22, 20, 28, 27, 25, 19, 15, 24, 26, 23, 14, 8, 6, 2, 7], [10, 9, 11, 7, 3, 4, 5, 1, 0, 2, 6, 8, 12, 13, 16, 17, 18, 21, 22, 20, 28, 27, 25, 19, 15, 24, 26, 23, 14, 10], [10, 9, 11, 7, 3, 4, 5, 1, 0, 2, 6, 8, 12, 13, 16, 17, 18, 21, 22, 20, 28, 27, 25, 19, 15, 24, 26, 23, 14, 10], [4, 3, 7, 6, 8, 2, 12, 13, 16, 17, 18, 21, 22, 20, 28, 27, 25, 19, 15, 24, 26, 23, 14, 11, 9, 10, 5, 1, 0, 4], [11, 7, 3, 4, 5, 1, 0, 9, 10, 14, 18, 17, 21, 22, 20, 28, 27, 25, 19, 15, 24, 26, 23, 16, 13, 12, 8, 6, 2, 11], [7, 3, 4, 5, 1, 0, 9, 10, 11, 12, 13, 16, 17, 18, 14, 21, 22, 20, 28, 27, 25, 19, 15, 24, 26, 23, 8, 6, 2, 7], [11, 7, 3, 4, 5, 1, 0, 9, 10, 14, 18, 17, 21, 22, 20, 28, 27, 25, 19, 15, 24, 26, 23, 13, 16, 12, 8, 6, 2, 11], [7, 3, 4, 5, 1, 0, 9, 10, 11, 12, 13, 16, 17, 18, 14, 21, 22, 20, 28, 27, 25, 19, 15, 24, 26, 23, 8, 6, 2, 7], [11, 7, 3, 4, 5, 1, 0, 9, 10, 14, 18, 17, 21, 22, 20, 28, 27, 25, 19, 15, 24, 26, 23, 16, 13, 12, 8, 2, 6, 11], [7, 3, 4, 5, 1, 0, 9, 10, 11, 12, 13, 16, 17, 18, 21, 22, 20, 28, 27, 25, 19, 15, 24, 26, 23, 14, 8, 6, 2, 7], [10, 9, 11, 7, 3, 4, 5, 1, 0, 2, 6, 8, 12, 13, 16, 17, 18, 21, 22, 20, 28, 27, 25, 19, 15, 24, 26, 23, 14, 10], [11, 7, 3, 4, 5, 1, 0, 9, 10, 14, 18, 17, 21, 22, 20, 28, 27, 25, 19, 15, 24, 26, 23, 13, 16, 12, 8, 6, 2, 11], [7, 3, 4, 5, 1, 0, 9, 10, 11, 12, 13, 16, 17, 18, 14, 21, 22, 20, 28, 27, 25, 19, 15, 24, 26, 23, 8, 6, 2, 7], [16, 17, 18, 14, 11, 9, 10, 7, 3, 4, 5, 1, 0, 2, 6, 8, 12, 13, 15, 24, 26, 23, 19, 25, 27, 28, 22, 20, 21, 16], [11, 7, 3, 4, 5, 1, 0, 9, 10, 14, 18, 17, 21, 22, 20, 28, 27, 25, 19, 15, 24, 26, 23, 16, 13, 12, 8, 6, 2, 11], [10, 9, 11, 7, 3, 4, 5, 1, 0, 2, 6, 8, 12, 13, 16, 17, 18, 21, 22, 20, 28, 27, 25, 19, 15, 24, 26, 23, 14, 10], [7, 3, 4, 5, 1, 0, 9, 10, 11, 12, 13, 16, 17, 18, 21, 22, 20, 28, 27, 25, 19, 15, 24, 26, 23, 14, 8, 6, 2, 7], [7, 3, 4, 5, 1, 0, 9, 10, 11, 12, 13, 16, 17, 18, 14, 21, 22, 20, 28, 27, 25, 19, 15, 24, 26, 23, 8, 6, 2, 7], [10, 9, 11, 7, 3, 4, 5, 1, 0, 2, 6, 8, 12, 13, 16, 17, 18, 21, 22, 20, 28, 27, 25, 19, 15, 24, 26, 23, 14, 10], [10, 9, 11, 7, 3, 4, 5, 1, 0, 2, 6, 8, 12, 13, 16, 17, 18, 21, 22, 20, 28, 27, 25, 19, 15, 24, 26, 23, 14, 10], [10, 9, 11, 7, 3, 4, 5, 1, 0, 2, 6, 8, 12, 13, 16, 17, 18, 21, 22, 20, 28, 27, 25, 19, 15, 24, 26, 23, 14, 10], [5, 1, 0, 4, 3, 7, 6, 8, 2, 12, 13, 16, 17, 18, 21, 22, 20, 28, 27, 25, 19, 15, 24, 26, 23, 14, 11, 9, 10, 5], [10, 9, 11, 7, 3, 4, 5, 1, 0, 2, 6, 8, 12, 13, 16, 17, 18, 21, 22, 20, 28, 27, 25, 19, 15, 24, 26, 23, 14, 10], [7, 3, 4, 5, 1, 0, 9, 10, 11, 12, 13, 16, 17, 18, 14, 21, 22, 20, 28, 27, 25, 19, 15, 24, 26, 23, 8, 6, 2, 7], [10, 9, 11, 7, 3, 4, 5, 1, 0, 2, 6, 8, 12, 13, 16, 17, 18, 21, 22, 20, 28, 27, 25, 19, 15, 24, 26, 23, 14, 10], [7, 3, 4, 5, 1, 0, 9, 10, 11, 12, 13, 16, 17, 18, 21, 22, 20, 28, 27, 25, 19, 15, 24, 26, 23, 14, 8, 6, 2, 7], [4, 3, 7, 6, 8, 2, 12, 13, 16, 17, 18, 21, 22, 20, 28, 27, 25, 19, 15, 24, 26, 23, 14, 11, 9, 10, 5, 1, 0, 4], [7, 3, 4, 5, 1, 0, 9, 10, 11, 12, 13, 16, 17, 18, 21, 22, 20, 28, 27, 25, 19, 15, 24, 26, 23, 14, 8, 6, 2, 7], [10, 9, 11, 7, 3, 4, 5, 1, 0, 2, 6, 8, 12, 13, 16, 17, 18, 21, 22, 20, 28, 27, 25, 19, 15, 24, 26, 23, 14, 10], [4, 3, 7, 6, 8, 2, 12, 13, 16, 17, 18, 21, 22, 20, 28, 27, 25, 19, 15, 24, 26, 23, 14, 11, 9, 10, 5, 1, 0, 4], [7, 3, 4, 5, 1, 0, 9, 10, 11, 12, 13, 16, 17, 18, 14, 21, 22, 20, 28, 27, 25, 19, 15, 24, 26, 23, 8, 6, 2, 7], [24, 26, 23, 15, 19, 25, 27, 28, 22, 20, 21, 17, 18, 14, 11, 9, 10, 5, 1, 0, 4, 3, 7, 6, 8, 2, 12, 13, 16, 24], [7, 3, 4, 5, 1, 0, 10, 9, 11, 12, 13, 16, 17, 18, 14, 21, 22, 20, 28, 27, 25, 19, 15, 24, 26, 23, 8, 6, 2, 7], [4, 3, 7, 6, 8, 2, 12, 13, 16, 17, 18, 21, 22, 20, 28, 27, 25, 19, 15, 24, 26, 23, 14, 11, 9, 10, 5, 1, 0, 4], [11, 7, 3, 4, 5, 1, 0, 9, 10, 14, 18, 17, 21, 22, 20, 28, 27, 25, 19, 15, 24, 26, 23, 16, 13, 12, 8, 6, 2, 11], [11, 7, 3, 4, 5, 1, 0, 9, 10, 14, 18, 17, 16, 20, 21, 22, 28, 27, 25, 19, 15, 24, 26, 23, 13, 12, 8, 2, 6, 11], [10, 9, 11, 7, 3, 4, 5, 1, 0, 2, 6, 8, 12, 13, 16, 17, 18, 21, 22, 20, 28, 27, 25, 19, 15, 24, 26, 23, 14, 10], [7, 3, 4, 5, 1, 0, 9, 10, 11, 12, 13, 16, 17, 18, 14, 21, 22, 20, 28, 27, 25, 19, 15, 24, 26, 23, 8, 6, 2, 7], [20, 22, 21, 28, 27, 25, 19, 16, 17, 18, 14, 10, 9, 11, 7, 3, 4, 5, 1, 0, 2, 6, 8, 12, 13, 15, 24, 26, 23, 20], [7, 3, 4, 5, 1, 0, 9, 10, 11, 12, 13, 16, 17, 18, 21, 22, 20, 28, 27, 25, 19, 15, 24, 26, 23, 14, 8, 6, 2, 7], [11, 7, 3, 4, 5, 1, 0, 9, 10, 14, 18, 17, 21, 22, 20, 28, 27, 25, 19, 15, 24, 26, 23, 13, 16, 12, 8, 6, 2, 11], [11, 7, 3, 4, 5, 1, 0, 9, 10, 14, 18, 17, 21, 22, 20, 28, 27, 25, 19, 15, 24, 26, 23, 16, 13, 12, 8, 6, 2, 11], [7, 3, 4, 5, 1, 0, 9, 10, 11, 12, 13, 16, 17, 18, 14, 21, 22, 20, 28, 27, 25, 19, 15, 24, 26, 23, 8, 6, 2, 7], [10, 9, 11, 7, 3, 4, 5, 1, 0, 2, 6, 8, 12, 13, 16, 17, 18, 21, 22, 20, 28, 27, 25, 19, 15, 24, 26, 23, 14, 10], [7, 3, 4, 5, 1, 0, 9, 10, 11, 12, 13, 16, 17, 18, 14, 21, 22, 20, 28, 27, 25, 19, 15, 24, 26, 23, 8, 6, 2, 7], [10, 9, 11, 7, 3, 4, 5, 1, 0, 2, 6, 8, 12, 13, 16, 17, 18, 21, 22, 20, 28, 27, 25, 19, 15, 24, 26, 23, 14, 10], [10, 9, 11, 7, 3, 4, 5, 1, 0, 2, 6, 8, 12, 13, 16, 17, 18, 21, 22, 20, 28, 27, 25, 19, 15, 24, 26, 23, 14, 10], [7, 3, 4, 5, 1, 0, 9, 10, 11, 12, 13, 16, 17, 18, 21, 22, 20, 28, 27, 25, 19, 15, 24, 26, 23, 14, 8, 6, 2, 7], [7, 3, 4, 5, 1, 0, 10, 9, 11, 12, 13, 16, 17, 18, 14, 21, 22, 20, 28, 27, 25, 19, 15, 24, 26, 23, 8, 6, 2, 7], [7, 3, 4, 5, 1, 0, 9, 10, 11, 12, 13, 16, 17, 18, 14, 21, 22, 20, 28, 27, 25, 19, 15, 24, 26, 23, 8, 6, 2, 7], [7, 3, 4, 5, 1, 0, 9, 10, 11, 12, 13, 16, 17, 18, 14, 21, 22, 20, 28, 27, 25, 19, 15, 24, 26, 23, 8, 6, 2, 7], [4, 3, 7, 6, 8, 2, 12, 13, 16, 17, 18, 21, 22, 20, 28, 27, 25, 19, 15, 24, 26, 23, 14, 11, 9, 10, 5, 1, 0, 4], [21, 22, 20, 28, 27, 25, 19, 16, 17, 18, 14, 10, 9, 11, 7, 3, 4, 5, 1, 0, 2, 6, 8, 12, 13, 15, 24, 26, 23, 21], [12, 13, 16, 17, 18, 14, 21, 22, 20, 28, 27, 25, 19, 15, 24, 26, 23, 8, 6, 2, 7, 3, 4, 5, 1, 0, 9, 10, 11, 12], [10, 9, 11, 7, 3, 4, 5, 1, 0, 2, 6, 8, 12, 13, 16, 17, 18, 21, 22, 20, 28, 27, 25, 19, 15, 24, 26, 23, 14, 10], [4, 3, 7, 6, 8, 2, 12, 13, 16, 17, 18, 21, 22, 20, 28, 27, 25, 19, 15, 24, 26, 23, 14, 11, 9, 10, 5, 1, 0, 4], [10, 9, 11, 7, 3, 4, 5, 1, 0, 2, 6, 8, 12, 13, 16, 17, 18, 21, 22, 20, 28, 27, 25, 19, 15, 24, 26, 23, 14, 10], [10, 9, 11, 7, 3, 4, 5, 1, 0, 2, 6, 8, 12, 13, 16, 17, 18, 21, 22, 20, 28, 27, 25, 19, 15, 24, 26, 23, 14, 10], [4, 3, 7, 6, 8, 2, 12, 13, 16, 17, 18, 21, 22, 20, 28, 27, 25, 19, 15, 24, 26, 23, 14, 11, 9, 10, 5, 1, 0, 4], [5, 1, 0, 4, 3, 7, 6, 8, 2, 12, 13, 16, 17, 18, 21, 22, 20, 28, 27, 25, 19, 15, 24, 26, 23, 14, 11, 9, 10, 5], [10, 9, 11, 7, 3, 4, 5, 1, 0, 2, 6, 8, 12, 13, 16, 17, 18, 21, 22, 20, 28, 27, 25, 19, 15, 24, 26, 23, 14, 10], [10, 9, 11, 7, 3, 4, 5, 1, 0, 2, 6, 8, 12, 13, 16, 17, 18, 21, 22, 20, 28, 27, 25, 19, 15, 24, 26, 23, 14, 10], [4, 3, 7, 6, 8, 2, 12, 13, 16, 17, 18, 21, 22, 20, 28, 27, 25, 19, 15, 24, 26, 23, 14, 11, 9, 10, 5, 1, 0, 4], [10, 9, 11, 7, 3, 4, 5, 1, 0, 2, 6, 8, 12, 13, 16, 17, 18, 21, 22, 20, 28, 27, 25, 19, 15, 24, 26, 23, 14, 10], [10, 9, 11, 7, 3, 4, 5, 1, 0, 2, 6, 8, 12, 13, 16, 17, 18, 21, 22, 20, 28, 27, 25, 19, 15, 24, 26, 23, 14, 10], [10, 9, 11, 7, 3, 4, 5, 1, 0, 2, 6, 8, 12, 13, 16, 17, 18, 21, 22, 20, 28, 27, 25, 19, 15, 24, 26, 23, 14, 10], [16, 17, 18, 14, 11, 7, 3, 4, 5, 1, 0, 9, 10, 6, 8, 2, 12, 13, 15, 24, 26, 23, 19, 25, 27, 28, 22, 20, 21, 16], [13, 16, 17, 18, 14, 21, 22, 20, 28, 27, 25, 19, 15, 24, 26, 23, 8, 2, 6, 7, 3, 4, 5, 1, 0, 9, 10, 11, 12, 13], [2, 3, 6, 8, 12, 13, 16, 17, 18, 21, 22, 20, 28, 27, 25, 19, 15, 24, 26, 23, 14, 11, 10, 9, 5, 1, 0, 4, 7, 2], [7, 3, 4, 5, 1, 0, 9, 10, 11, 12, 13, 16, 17, 18, 14, 21, 22, 20, 28, 27, 25, 19, 15, 24, 26, 23, 8, 6, 2, 7], [13, 16, 17, 18, 14, 21, 22, 20, 28, 27, 25, 19, 15, 24, 26, 23, 8, 2, 6, 7, 3, 4, 5, 1, 0, 9, 10, 11, 12, 13], [7, 3, 4, 5, 1, 0, 9, 10, 11, 14, 16, 17, 18, 21, 22, 20, 28, 27, 25, 19, 15, 24, 26, 23, 13, 12, 8, 2, 6, 7], [7, 3, 4, 5, 1, 0, 9, 10, 11, 12, 13, 16, 17, 18, 14, 21, 22, 20, 28, 27, 25, 19, 15, 24, 26, 23, 8, 6, 2, 7], [10, 9, 11, 7, 3, 4, 5, 1, 0, 2, 6, 8, 12, 13, 16, 17, 18, 21, 22, 20, 28, 27, 25, 19, 15, 24, 26, 23, 14, 10], [10, 9, 11, 7, 3, 4, 5, 1, 0, 2, 6, 8, 12, 13, 16, 17, 18, 21, 22, 20, 28, 27, 25, 19, 15, 24, 26, 23, 14, 10], [7, 3, 4, 5, 1, 0, 9, 10, 11, 12, 13, 16, 17, 18, 14, 21, 22, 20, 28, 27, 25, 19, 15, 24, 26, 23, 8, 6, 2, 7], [7, 3, 4, 5, 1, 0, 9, 10, 11, 12, 13, 16, 17, 18, 14, 21, 22, 20, 28, 27, 25, 19, 15, 24, 26, 23, 8, 6, 2, 7], [0, 1, 5, 4, 3, 6, 8, 2, 7, 12, 13, 16, 17, 18, 21, 22, 20, 28, 27, 25, 19, 15, 24, 26, 23, 14, 11, 9, 10, 0], [10, 9, 11, 7, 3, 4, 5, 1, 0, 2, 6, 8, 12, 13, 16, 17, 18, 21, 22, 20, 28, 27, 25, 19, 15, 24, 26, 23, 14, 10], [7, 3, 4, 5, 1, 0, 9, 10, 11, 12, 13, 16, 17, 18, 14, 21, 22, 20, 28, 27, 25, 19, 15, 24, 26, 23, 8, 6, 2, 7], [7, 3, 4, 5, 1, 0, 9, 10, 11, 12, 13, 16, 17, 18, 14, 21, 22, 20, 28, 27, 25, 19, 15, 24, 26, 23, 8, 6, 2, 7], [10, 9, 11, 7, 3, 4, 5, 1, 0, 2, 6, 8, 12, 13, 16, 17, 18, 21, 22, 20, 28, 27, 25, 19, 15, 24, 26, 23, 14, 10], [21, 22, 20, 28, 27, 25, 19, 16, 17, 18, 14, 10, 9, 11, 7, 3, 4, 5, 1, 0, 2, 6, 8, 12, 13, 15, 24, 26, 23, 21], [14, 18, 17, 21, 22, 20, 28, 27, 25, 19, 15, 24, 26, 23, 8, 6, 2, 3, 4, 5, 1, 0, 9, 10, 11, 7, 12, 13, 16, 14], [7, 3, 4, 5, 1, 0, 9, 10, 11, 12, 13, 16, 17, 18, 21, 22, 20, 28, 27, 25, 19, 15, 24, 26, 23, 14, 8, 6, 2, 7], [7, 3, 4, 5, 1, 0, 9, 10, 11, 12, 13, 16, 17, 18, 21, 22, 20, 28, 27, 25, 19, 15, 24, 26, 23, 14, 8, 6, 2, 7], [11, 7, 3, 4, 5, 1, 0, 9, 10, 14, 18, 17, 21, 22, 20, 28, 27, 25, 19, 15, 24, 26, 23, 13, 16, 12, 8, 6, 2, 11], [7, 3, 4, 5, 1, 0, 9, 10, 11, 12, 13, 16, 17, 18, 21, 22, 20, 28, 27, 25, 19, 15, 24, 26, 23, 14, 8, 6, 2, 7], [10, 9, 11, 7, 3, 4, 5, 1, 0, 2, 6, 8, 12, 13, 16, 17, 18, 21, 22, 20, 28, 27, 25, 19, 15, 24, 26, 23, 14, 10], [16, 17, 18, 14, 11, 9, 10, 5, 1, 0, 4, 3, 7, 6, 8, 2, 12, 13, 15, 24, 26, 23, 19, 25, 27, 28, 22, 20, 21, 16], [10, 9, 11, 7, 3, 4, 5, 1, 0, 2, 6, 8, 12, 13, 16, 17, 18, 21, 22, 20, 28, 27, 25, 19, 15, 24, 26, 23, 14, 10], [10, 9, 11, 7, 3, 4, 5, 1, 0, 2, 6, 8, 12, 13, 16, 17, 18, 21, 22, 20, 28, 27, 25, 19, 15, 24, 26, 23, 14, 10], [4, 3, 7, 6, 8, 2, 12, 13, 16, 17, 18, 21, 22, 20, 28, 27, 25, 19, 15, 24, 26, 23, 14, 11, 9, 10, 5, 1, 0, 4], [10, 9, 11, 12, 13, 16, 17, 18, 14, 21, 22, 20, 28, 27, 25, 19, 15, 24, 26, 23, 8, 6, 2, 7, 3, 4, 5, 1, 0, 10], [12, 13, 16, 17, 18, 14, 21, 22, 20, 28, 27, 25, 19, 15, 24, 26, 23, 8, 6, 2, 7, 3, 4, 5, 1, 0, 9, 10, 11, 12], [16, 17, 18, 14, 10, 9, 5, 1, 0, 6, 8, 2, 3, 4, 7, 11, 12, 13, 15, 24, 26, 23, 19, 25, 27, 28, 22, 20, 21, 16], [14, 18, 17, 21, 22, 20, 28, 27, 25, 19, 15, 24, 26, 23, 8, 6, 2, 3, 4, 5, 1, 0, 9, 10, 11, 7, 12, 13, 16, 14], [18, 17, 21, 22, 20, 28, 27, 25, 19, 15, 24, 26, 23, 13, 16, 8, 6, 2, 3, 4, 5, 1, 0, 9, 10, 11, 7, 12, 14, 18], [13, 16, 17, 18, 14, 21, 22, 20, 28, 27, 25, 19, 15, 24, 26, 23, 8, 2, 6, 3, 4, 5, 1, 0, 9, 10, 11, 7, 12, 13], [7, 3, 4, 5, 1, 0, 9, 10, 11, 12, 13, 16, 17, 18, 14, 21, 22, 20, 28, 27, 25, 19, 15, 24, 26, 23, 8, 6, 2, 7], [2, 6, 8, 12, 11, 7, 3, 4, 5, 1, 0, 9, 10, 14, 18, 17, 21, 22, 20, 28, 27, 25, 19, 15, 24, 26, 23, 16, 13, 2], [11, 7, 3, 4, 5, 1, 0, 9, 10, 14, 18, 21, 22, 20, 28, 27, 25, 19, 15, 24, 26, 23, 16, 17, 13, 12, 8, 2, 6, 11], [10, 9, 11, 7, 3, 4, 5, 1, 0, 2, 6, 8, 12, 13, 16, 17, 18, 21, 22, 20, 28, 27, 25, 19, 15, 24, 26, 23, 14, 10], [7, 3, 4, 5, 1, 0, 9, 10, 11, 12, 13, 16, 17, 18, 14, 21, 22, 20, 28, 27, 25, 19, 15, 24, 26, 23, 8, 6, 2, 7], [11, 7, 3, 4, 5, 1, 0, 9, 10, 14, 18, 17, 16, 20, 21, 22, 28, 27, 25, 19, 15, 24, 26, 23, 13, 12, 8, 2, 6, 11], [10, 9, 11, 7, 3, 4, 5, 1, 0, 2, 6, 8, 12, 13, 16, 17, 18, 21, 22, 20, 28, 27, 25, 19, 15, 24, 26, 23, 14, 10], [21, 22, 20, 28, 27, 25, 19, 16, 17, 18, 14, 10, 9, 11, 7, 3, 4, 5, 1, 0, 2, 6, 8, 12, 13, 15, 24, 26, 23, 21], [7, 3, 4, 5, 1, 0, 9, 10, 11, 12, 13, 16, 17, 18, 14, 21, 22, 20, 28, 27, 25, 19, 15, 24, 26, 23, 8, 6, 2, 7], [11, 7, 3, 4, 5, 1, 0, 9, 10, 14, 18, 17, 21, 22, 20, 28, 27, 25, 19, 15, 24, 26, 23, 13, 16, 12, 8, 6, 2, 11], [10, 9, 11, 7, 3, 4, 5, 1, 0, 2, 6, 8, 12, 13, 16, 17, 18, 21, 22, 20, 28, 27, 25, 19, 15, 24, 26, 23, 14, 10], [10, 9, 11, 7, 3, 4, 5, 1, 0, 2, 6, 8, 12, 13, 16, 17, 18, 21, 22, 20, 28, 27, 25, 19, 15, 24, 26, 23, 14, 10], [7, 3, 4, 5, 1, 0, 9, 10, 11, 12, 13, 16, 17, 18, 14, 21, 22, 20, 28, 27, 25, 19, 15, 24, 26, 23, 8, 6, 2, 7], [7, 3, 4, 5, 1, 0, 9, 10, 11, 12, 13, 16, 17, 18, 14, 21, 22, 20, 28, 27, 25, 19, 15, 24, 26, 23, 8, 6, 2, 7], [11, 7, 3, 4, 5, 1, 0, 9, 10, 14, 18, 17, 21, 22, 20, 28, 27, 25, 19, 15, 24, 26, 23, 16, 13, 12, 8, 6, 2, 11], [28, 22, 20, 21, 17, 18, 14, 16, 13, 12, 11, 9, 10, 7, 3, 4, 5, 1, 0, 2, 6, 8, 15, 24, 26, 23, 19, 25, 27, 28], [7, 3, 4, 5, 1, 0, 9, 10, 11, 12, 13, 16, 17, 18, 21, 22, 20, 28, 27, 25, 19, 15, 24, 26, 23, 14, 8, 6, 2, 7], [4, 3, 7, 6, 8, 2, 12, 13, 16, 17, 18, 21, 22, 20, 28, 27, 25, 19, 15, 24, 26, 23, 14, 11, 9, 10, 5, 1, 0, 4], [10, 9, 11, 7, 3, 4, 5, 1, 0, 2, 6, 8, 12, 13, 16, 17, 18, 21, 22, 20, 28, 27, 25, 19, 15, 24, 26, 23, 14, 10], [10, 9, 11, 7, 3, 4, 5, 1, 0, 2, 6, 8, 12, 13, 16, 17, 18, 21, 22, 20, 28, 27, 25, 19, 15, 24, 26, 23, 14, 10], [10, 9, 11, 7, 3, 4, 5, 1, 0, 2, 6, 8, 12, 13, 16, 17, 18, 21, 22, 20, 28, 27, 25, 19, 15, 24, 26, 23, 14, 10], [21, 22, 20, 28, 27, 25, 19, 16, 17, 18, 14, 8, 6, 2, 7, 3, 4, 5, 1, 0, 9, 10, 11, 12, 13, 15, 24, 26, 23, 21], [10, 9, 11, 12, 13, 16, 17, 18, 14, 21, 22, 20, 28, 27, 25, 19, 15, 24, 26, 23, 8, 6, 2, 3, 7, 4, 5, 1, 0, 10], [7, 6, 8, 2, 3, 4, 5, 1, 0, 10, 9, 11, 14, 18, 17, 13, 16, 20, 21, 22, 28, 27, 25, 19, 15, 24, 26, 23, 12, 7], [7, 11, 12, 13, 16, 17, 18, 14, 21, 22, 20, 28, 27, 25, 19, 15, 24, 26, 23, 8, 6, 2, 3, 4, 5, 1, 0, 9, 10, 7], [2, 6, 8, 12, 11, 7, 3, 4, 5, 1, 0, 9, 10, 14, 18, 17, 21, 22, 20, 28, 27, 25, 19, 15, 24, 26, 23, 16, 13, 2], [13, 16, 17, 18, 14, 21, 22, 20, 28, 27, 25, 19, 15, 24, 26, 23, 8, 2, 6, 7, 3, 4, 5, 1, 0, 9, 10, 11, 12, 13], [7, 3, 4, 5, 1, 0, 9, 10, 11, 12, 13, 16, 17, 18, 14, 21, 22, 20, 28, 27, 25, 19, 15, 24, 26, 23, 8, 6, 2, 7], [2, 6, 8, 12, 11, 7, 3, 4, 5, 1, 0, 9, 10, 14, 18, 17, 21, 22, 20, 28, 27, 25, 19, 15, 24, 26, 23, 16, 13, 2], [7, 3, 4, 5, 1, 0, 9, 10, 11, 12, 13, 16, 17, 18, 14, 21, 22, 20, 28, 27, 25, 19, 15, 24, 26, 23, 8, 6, 2, 7], [7, 3, 4, 5, 1, 0, 9, 10, 11, 12, 13, 16, 17, 18, 21, 22, 20, 28, 27, 25, 19, 15, 24, 26, 23, 14, 8, 6, 2, 7], [11, 7, 3, 4, 5, 1, 0, 9, 10, 14, 18, 17, 16, 20, 21, 22, 28, 27, 25, 19, 15, 24, 26, 23, 13, 12, 8, 6, 2, 11], [10, 9, 11, 12, 13, 16, 17, 18, 14, 21, 22, 20, 28, 27, 25, 19, 15, 24, 26, 23, 8, 2, 6, 7, 3, 4, 5, 1, 0, 10], [4, 3, 7, 6, 8, 2, 12, 13, 16, 17, 18, 21, 22, 20, 28, 27, 25, 19, 15, 24, 26, 23, 14, 11, 9, 10, 5, 1, 0, 4], [7, 3, 4, 5, 1, 0, 9, 10, 11, 12, 13, 16, 17, 18, 21, 22, 20, 28, 27, 25, 19, 15, 24, 26, 23, 14, 8, 6, 2, 7], [7, 3, 4, 5, 1, 0, 9, 10, 11, 12, 13, 16, 17, 18, 14, 21, 22, 20, 28, 27, 25, 19, 15, 24, 26, 23, 8, 6, 2, 7], [10, 9, 11, 7, 3, 4, 5, 1, 0, 2, 6, 8, 12, 13, 16, 17, 18, 21, 22, 20, 28, 27, 25, 19, 15, 24, 26, 23, 14, 10], [11, 7, 3, 4, 5, 1, 0, 9, 10, 14, 18, 17, 16, 20, 22, 21, 28, 27, 25, 19, 15, 24, 26, 23, 13, 12, 8, 6, 2, 11], [4, 3, 7, 6, 8, 2, 12, 13, 16, 17, 18, 21, 22, 20, 28, 27, 25, 19, 15, 24, 26, 23, 14, 11, 9, 10, 5, 1, 0, 4], [7, 3, 4, 5, 1, 0, 9, 10, 11, 12, 13, 16, 17, 18, 21, 22, 20, 28, 27, 25, 19, 15, 24, 26, 23, 14, 8, 6, 2, 7], [0, 1, 5, 4, 3, 7, 11, 9, 10, 14, 18, 17, 21, 22, 20, 28, 27, 25, 19, 15, 24, 26, 23, 16, 13, 12, 8, 6, 2, 0], [16, 17, 18, 14, 11, 7, 3, 4, 5, 1, 0, 9, 10, 6, 8, 2, 12, 13, 15, 24, 26, 23, 19, 25, 27, 28, 22, 20, 21, 16], [10, 9, 11, 7, 3, 4, 5, 1, 0, 2, 6, 8, 12, 13, 16, 17, 18, 21, 22, 20, 28, 27, 25, 19, 15, 24, 26, 23, 14, 10], [10, 9, 11, 7, 3, 4, 5, 1, 0, 2, 6, 8, 12, 13, 16, 17, 18, 21, 22, 20, 28, 27, 25, 19, 15, 24, 26, 23, 14, 10], [9, 10, 11, 7, 3, 4, 5, 1, 0, 2, 6, 8, 12, 13, 16, 17, 18, 21, 22, 20, 28, 27, 25, 19, 15, 24, 26, 23, 14, 9], [10, 9, 11, 7, 3, 4, 5, 1, 0, 2, 6, 8, 12, 13, 16, 17, 18, 21, 22, 20, 28, 27, 25, 19, 15, 24, 26, 23, 14, 10], [10, 9, 11, 7, 3, 4, 5, 1, 0, 2, 6, 8, 12, 13, 16, 17, 18, 21, 22, 20, 28, 27, 25, 19, 15, 24, 26, 23, 14, 10], [10, 9, 11, 7, 3, 4, 5, 1, 0, 2, 6, 8, 12, 13, 16, 17, 18, 21, 22, 20, 28, 27, 25, 19, 15, 24, 26, 23, 14, 10], [8, 6, 2, 3, 4, 7, 11, 12, 13, 16, 17, 18, 21, 22, 20, 28, 27, 25, 19, 15, 24, 26, 23, 14, 10, 9, 5, 1, 0, 8], [8, 6, 2, 3, 4, 7, 11, 12, 13, 16, 17, 18, 21, 22, 20, 28, 27, 25, 19, 15, 24, 26, 23, 14, 10, 9, 5, 1, 0, 8], [7, 3, 4, 5, 1, 0, 9, 10, 11, 12, 13, 16, 17, 18, 21, 22, 20, 28, 27, 25, 19, 15, 24, 26, 23, 14, 8, 6, 2, 7], [14, 18, 21, 22, 20, 28, 27, 25, 19, 15, 24, 26, 23, 8, 6, 2, 3, 4, 5, 1, 0, 9, 10, 11, 7, 12, 13, 16, 17, 14], [0, 1, 5, 4, 3, 7, 6, 8, 2, 15, 24, 26, 23, 19, 25, 27, 28, 22, 20, 21, 17, 18, 14, 16, 13, 12, 11, 9, 10, 0], [11, 12, 13, 16, 17, 18, 21, 22, 20, 28, 27, 25, 19, 15, 24, 26, 23, 14, 10, 9, 7, 3, 4, 5, 1, 0, 2, 6, 8, 11], [11, 12, 13, 16, 17, 18, 21, 22, 20, 28, 27, 25, 19, 15, 24, 26, 23, 14, 10, 9, 7, 3, 4, 5, 1, 0, 2, 6, 8, 11], [10, 9, 11, 7, 3, 4, 5, 1, 0, 2, 6, 8, 12, 13, 16, 17, 18, 21, 22, 20, 28, 27, 25, 19, 15, 24, 26, 23, 14, 10], [24, 26, 23, 15, 19, 25, 27, 28, 22, 20, 21, 17, 18, 14, 10, 9, 5, 1, 0, 8, 6, 2, 3, 4, 7, 11, 12, 13, 16, 24], [8, 6, 2, 3, 4, 7, 11, 12, 13, 16, 17, 18, 21, 22, 20, 28, 27, 25, 19, 15, 24, 26, 23, 14, 10, 9, 5, 1, 0, 8], [16, 17, 18, 14, 11, 7, 3, 4, 5, 1, 0, 9, 10, 6, 8, 2, 12, 13, 15, 24, 26, 23, 19, 25, 27, 28, 22, 20, 21, 16], [10, 9, 7, 3, 4, 5, 1, 0, 2, 6, 8, 12, 13, 16, 17, 18, 21, 22, 20, 28, 27, 25, 19, 15, 24, 26, 23, 14, 11, 10], [7, 3, 4, 5, 1, 0, 9, 10, 11, 12, 13, 16, 17, 18, 14, 21, 22, 20, 28, 27, 25, 19, 15, 24, 26, 23, 8, 6, 2, 7], [3, 4, 5, 1, 0, 9, 10, 14, 18, 17, 21, 22, 20, 28, 27, 25, 19, 15, 24, 26, 23, 13, 16, 12, 11, 7, 8, 6, 2, 3], [10, 9, 11, 12, 13, 16, 17, 18, 14, 21, 22, 20, 28, 27, 25, 19, 15, 24, 26, 23, 8, 6, 2, 3, 4, 5, 1, 0, 7, 10], [8, 6, 2, 3, 4, 5, 1, 0, 9, 10, 11, 12, 13, 16, 17, 18, 21, 22, 20, 28, 27, 25, 19, 15, 24, 26, 23, 14, 7, 8], [10, 9, 11, 7, 3, 4, 5, 1, 0, 2, 6, 8, 12, 13, 16, 17, 18, 21, 22, 20, 28, 27, 25, 19, 15, 24, 26, 23, 14, 10], [21, 22, 20, 28, 27, 25, 19, 15, 24, 26, 23, 17, 18, 14, 8, 6, 2, 3, 4, 5, 1, 0, 9, 10, 11, 7, 12, 13, 16, 21], [24, 26, 23, 15, 19, 25, 27, 28, 22, 20, 21, 17, 18, 14, 11, 7, 3, 4, 5, 1, 0, 9, 10, 6, 8, 2, 12, 13, 16, 24], [18, 17, 16, 13, 12, 11, 9, 10, 5, 1, 0, 4, 7, 3, 6, 8, 2, 15, 24, 26, 23, 19, 25, 27, 28, 22, 20, 21, 14, 18], [4, 5, 1, 0, 9, 10, 11, 12, 13, 16, 17, 18, 14, 21, 22, 20, 28, 27, 25, 19, 15, 24, 26, 23, 8, 2, 6, 7, 3, 4], [1, 0, 5, 4, 3, 7, 6, 8, 2, 12, 13, 16, 17, 18, 21, 22, 20, 28, 27, 25, 19, 15, 24, 26, 23, 14, 11, 9, 10, 1], [7, 3, 4, 5, 1, 0, 9, 10, 11, 12, 13, 16, 17, 18, 14, 21, 22, 20, 28, 27, 25, 19, 15, 24, 26, 23, 8, 6, 2, 7], [21, 22, 20, 28, 27, 25, 19, 16, 17, 18, 14, 10, 9, 11, 7, 3, 4, 5, 1, 0, 2, 6, 8, 12, 13, 15, 24, 26, 23, 21], [2, 6, 8, 12, 11, 7, 3, 4, 5, 1, 0, 9, 10, 14, 18, 17, 21, 22, 20, 28, 27, 25, 19, 15, 24, 26, 23, 16, 13, 2], [8, 6, 2, 3, 4, 7, 11, 9, 10, 5, 1, 0, 14, 18, 17, 21, 22, 20, 28, 27, 25, 19, 15, 24, 26, 23, 16, 13, 12, 8], [14, 18, 17, 21, 22, 20, 28, 27, 25, 19, 15, 24, 26, 23, 8, 6, 2, 3, 4, 5, 1, 0, 9, 10, 11, 7, 12, 13, 16, 14], [6, 2, 3, 4, 5, 1, 0, 9, 10, 14, 18, 21, 22, 20, 28, 27, 25, 19, 15, 24, 26, 23, 13, 16, 17, 12, 11, 7, 8, 6], [8, 2, 3, 4, 5, 1, 0, 9, 10, 6, 7, 11, 12, 13, 16, 17, 18, 14, 21, 22, 20, 28, 27, 25, 19, 15, 24, 26, 23, 8], [3, 4, 5, 1, 0, 9, 10, 14, 16, 17, 18, 21, 22, 20, 28, 27, 25, 19, 15, 24, 26, 23, 13, 12, 11, 7, 8, 6, 2, 3], [0, 1, 5, 4, 7, 3, 6, 8, 2, 15, 24, 26, 23, 19, 25, 27, 28, 22, 20, 21, 17, 18, 14, 16, 13, 12, 11, 9, 10, 0], [6, 8, 2, 3, 4, 5, 1, 0, 9, 10, 14, 18, 17, 21, 22, 20, 28, 27, 25, 19, 16, 13, 15, 24, 26, 23, 12, 11, 7, 6], [8, 6, 2, 3, 4, 5, 1, 0, 9, 10, 14, 18, 21, 22, 20, 28, 27, 25, 19, 15, 24, 26, 23, 13, 16, 17, 12, 11, 7, 8], [14, 18, 21, 22, 20, 28, 27, 25, 19, 15, 24, 26, 23, 8, 2, 6, 7, 3, 4, 5, 1, 0, 9, 10, 11, 12, 13, 16, 17, 14], [2, 6, 8, 11, 12, 13, 16, 17, 18, 21, 22, 20, 28, 27, 25, 19, 15, 24, 26, 23, 14, 10, 9, 5, 1, 0, 4, 3, 7, 2], [6, 8, 2, 3, 4, 7, 11, 12, 13, 16, 17, 18, 21, 22, 20, 28, 27, 25, 19, 15, 24, 26, 23, 14, 10, 9, 5, 1, 0, 6], [7, 3, 4, 5, 1, 0, 9, 10, 11, 12, 13, 16, 17, 18, 14, 21, 22, 20, 28, 27, 25, 19, 15, 24, 26, 23, 8, 6, 2, 7], [7, 3, 4, 5, 1, 0, 9, 10, 11, 12, 13, 16, 17, 18, 14, 21, 22, 20, 28, 27, 25, 19, 15, 24, 26, 23, 8, 6, 2, 7], [8, 6, 2, 7, 3, 4, 5, 1, 0, 9, 10, 11, 12, 13, 15, 24, 26, 23, 19, 25, 27, 28, 22, 20, 21, 17, 18, 14, 16, 8], [7, 3, 4, 5, 1, 0, 9, 10, 11, 12, 13, 16, 17, 18, 14, 21, 22, 20, 28, 27, 25, 19, 15, 24, 26, 23, 8, 6, 2, 7], [6, 8, 2, 3, 4, 5, 1, 0, 9, 10, 14, 18, 17, 21, 22, 20, 28, 27, 25, 19, 15, 24, 26, 23, 16, 13, 12, 11, 7, 6], [6, 8, 2, 3, 4, 7, 11, 12, 13, 16, 17, 18, 21, 22, 20, 28, 27, 25, 19, 15, 24, 26, 23, 14, 10, 9, 5, 1, 0, 6], [10, 9, 11, 7, 3, 4, 5, 1, 0, 2, 6, 8, 12, 13, 16, 17, 18, 21, 22, 20, 28, 27, 25, 19, 15, 24, 26, 23, 14, 10], [11, 7, 3, 4, 5, 1, 0, 9, 10, 14, 18, 17, 21, 22, 20, 28, 27, 25, 19, 15, 24, 26, 23, 13, 16, 12, 8, 6, 2, 11], [8, 6, 2, 3, 4, 5, 1, 0, 9, 10, 11, 7, 12, 13, 16, 17, 18, 14, 21, 22, 20, 28, 27, 25, 19, 15, 24, 26, 23, 8], [10, 9, 11, 12, 13, 16, 17, 18, 14, 21, 22, 20, 28, 27, 25, 19, 15, 24, 26, 23, 8, 2, 6, 7, 3, 4, 5, 1, 0, 10], [21, 22, 20, 28, 27, 25, 19, 15, 24, 26, 23, 16, 17, 18, 14, 10, 9, 11, 7, 3, 4, 5, 1, 0, 2, 6, 8, 12, 13, 21], [0, 1, 5, 10, 9, 11, 12, 13, 16, 17, 18, 14, 21, 22, 20, 28, 27, 25, 19, 15, 24, 26, 23, 8, 2, 6, 7, 3, 4, 0], [7, 3, 4, 5, 1, 0, 9, 10, 11, 12, 13, 16, 17, 18, 14, 21, 22, 20, 28, 27, 25, 19, 15, 24, 26, 23, 8, 6, 2, 7], [7, 3, 4, 5, 1, 0, 9, 10, 11, 12, 13, 16, 17, 18, 14, 21, 22, 20, 28, 27, 25, 19, 15, 24, 26, 23, 8, 6, 2, 7], [2, 6, 8, 12, 11, 7, 3, 4, 5, 1, 0, 9, 10, 14, 18, 17, 21, 22, 20, 28, 27, 25, 19, 15, 24, 26, 23, 16, 13, 2], [2, 6, 8, 12, 11, 7, 3, 4, 5, 1, 0, 9, 10, 14, 18, 17, 21, 22, 20, 28, 27, 25, 19, 15, 24, 26, 23, 16, 13, 2], [7, 3, 4, 5, 1, 0, 9, 10, 11, 12, 13, 16, 17, 18, 14, 21, 22, 20, 28, 27, 25, 19, 15, 24, 26, 23, 8, 6, 2, 7], [0, 1, 5, 4, 3, 6, 8, 2, 7, 12, 13, 16, 17, 18, 21, 22, 20, 28, 27, 25, 19, 15, 24, 26, 23, 14, 11, 9, 10, 0], [10, 9, 11, 12, 13, 16, 17, 18, 14, 21, 22, 20, 28, 27, 25, 19, 15, 24, 26, 23, 8, 6, 2, 3, 4, 7, 5, 1, 0, 10], [8, 6, 2, 3, 4, 7, 11, 12, 13, 16, 17, 18, 21, 22, 20, 28, 27, 25, 19, 15, 24, 26, 23, 14, 10, 9, 5, 1, 0, 8], [16, 17, 18, 14, 8, 6, 2, 3, 4, 5, 1, 0, 9, 10, 11, 7, 12, 13, 15, 24, 26, 23, 19, 25, 27, 28, 22, 20, 21, 16], [0, 1, 5, 4, 7, 3, 6, 8, 2, 15, 24, 26, 23, 19, 25, 27, 28, 22, 20, 21, 17, 18, 14, 16, 13, 12, 11, 9, 10, 0], [19, 25, 27, 28, 22, 20, 21, 17, 18, 14, 10, 9, 11, 7, 3, 4, 5, 1, 0, 2, 6, 8, 12, 13, 16, 24, 26, 23, 15, 19], [3, 4, 5, 1, 0, 9, 10, 14, 18, 17, 21, 22, 20, 28, 27, 25, 19, 15, 24, 26, 23, 13, 16, 12, 11, 7, 8, 6, 2, 3], [10, 9, 11, 7, 3, 4, 5, 1, 0, 2, 6, 8, 12, 13, 15, 24, 26, 23, 19, 25, 27, 28, 22, 20, 21, 17, 18, 14, 16, 10], [7, 3, 4, 5, 1, 0, 9, 10, 11, 12, 13, 16, 17, 18, 14, 21, 22, 20, 28, 27, 25, 19, 15, 24, 26, 23, 8, 6, 2, 7], [14, 18, 21, 22, 20, 28, 27, 25, 19, 15, 24, 26, 23, 13, 16, 17, 12, 8, 6, 2, 7, 3, 4, 5, 1, 0, 9, 10, 11, 14], [7, 3, 4, 5, 1, 0, 9, 10, 11, 12, 13, 16, 17, 18, 14, 21, 22, 20, 28, 27, 25, 19, 15, 24, 26, 23, 8, 6, 2, 7], [6, 8, 2, 3, 4, 5, 1, 0, 9, 10, 14, 16, 17, 18, 21, 22, 20, 28, 27, 25, 19, 15, 24, 26, 23, 13, 12, 11, 7, 6], [24, 26, 23, 15, 19, 25, 27, 28, 22, 20, 21, 17, 18, 14, 11, 7, 3, 4, 5, 1, 0, 9, 10, 6, 8, 2, 12, 13, 16, 24], [6, 8, 2, 3, 4, 5, 1, 0, 9, 10, 14, 21, 22, 20, 28, 27, 25, 19, 15, 24, 26, 23, 13, 16, 17, 18, 12, 11, 7, 6], [11, 7, 3, 4, 5, 1, 0, 9, 10, 6, 8, 2, 12, 13, 15, 24, 26, 23, 19, 25, 27, 28, 22, 20, 21, 17, 18, 14, 16, 11], [16, 17, 18, 14, 11, 7, 3, 4, 5, 1, 0, 9, 10, 6, 8, 2, 12, 13, 15, 24, 26, 23, 19, 25, 27, 28, 22, 20, 21, 16], [0, 1, 5, 4, 3, 7, 6, 2, 8, 12, 13, 16, 17, 18, 21, 22, 20, 28, 27, 25, 19, 15, 24, 26, 23, 14, 11, 9, 10, 0], [10, 9, 11, 7, 3, 4, 5, 1, 0, 2, 6, 8, 12, 13, 16, 17, 18, 21, 22, 20, 28, 27, 25, 19, 15, 24, 26, 23, 14, 10], [16, 17, 18, 14, 8, 6, 2, 3, 4, 5, 1, 0, 9, 10, 11, 7, 12, 13, 15, 24, 26, 23, 19, 25, 27, 28, 22, 20, 21, 16], [7, 3, 4, 5, 1, 0, 9, 10, 11, 12, 13, 16, 17, 18, 14, 21, 22, 20, 28, 27, 25, 19, 15, 24, 26, 23, 8, 6, 2, 7], [13, 16, 17, 18, 14, 21, 22, 20, 28, 27, 25, 19, 15, 24, 26, 23, 8, 2, 6, 7, 3, 4, 5, 1, 0, 9, 10, 11, 12, 13], [16, 17, 18, 14, 8, 6, 2, 3, 4, 5, 1, 0, 9, 10, 7, 11, 12, 13, 15, 24, 26, 23, 19, 25, 27, 28, 22, 20, 21, 16], [10, 9, 11, 7, 3, 4, 5, 1, 0, 2, 6, 8, 12, 13, 16, 17, 18, 21, 22, 20, 28, 27, 25, 19, 15, 24, 26, 23, 14, 10], [7, 3, 4, 5, 1, 0, 9, 10, 11, 12, 13, 16, 17, 18, 14, 21, 22, 20, 28, 27, 25, 19, 15, 24, 26, 23, 8, 6, 2, 7], [7, 3, 4, 5, 1, 0, 9, 10, 11, 12, 13, 16, 17, 18, 14, 21, 22, 20, 28, 27, 25, 19, 15, 24, 26, 23, 8, 6, 2, 7], [14, 18, 17, 21, 22, 20, 28, 27, 25, 19, 15, 24, 26, 23, 8, 6, 2, 3, 4, 5, 1, 0, 9, 10, 11, 7, 12, 13, 16, 14], [2, 6, 8, 12, 11, 7, 3, 4, 5, 1, 0, 9, 10, 14, 18, 17, 21, 22, 20, 28, 27, 25, 19, 15, 24, 26, 23, 16, 13, 2], [7, 3, 4, 5, 1, 0, 9, 10, 11, 12, 13, 16, 17, 18, 14, 21, 22, 20, 28, 27, 25, 19, 15, 24, 26, 23, 8, 6, 2, 7]]\n",
      "[32031.230398907697, 30352.88075684426, 30351.2962821204, 31844.9425312714, 31883.1300689936, 30352.88075684426, 30352.88075684426, 30352.88075684426, 30352.88075684426, 31113.641154825964, 30352.88075684426, 30778.49354677399, 31844.942531271405, 31815.125958353026, 31883.130068993596, 31883.1300689936, 31883.1300689936, 31883.1300689936, 32161.40297490449, 31844.9425312714, 31274.740676848982, 31883.1300689936, 31844.9425312714, 31844.9425312714, 32161.40297490449, 31883.1300689936, 31883.1300689936, 31844.9425312714, 30791.309821791074, 30352.88075684426, 31815.125958353026, 30352.88075684426, 30762.572029334868, 32161.40297490449, 31883.1300689936, 31815.125958353026, 30352.88075684426, 29881.981999188767, 30791.309821791074, 31883.1300689936, 32161.40297490449, 30352.88075684426, 31883.1300689936, 31883.1300689936, 31883.1300689936, 31844.942531271405, 31883.1300689936, 30352.88075684426, 31883.1300689936, 32161.40297490449, 31844.9425312714, 32161.40297490449, 31883.1300689936, 31844.9425312714, 30352.88075684426, 29863.25398663174, 30351.2962821204, 31844.9425312714, 30791.309821791074, 30656.406826064307, 31883.1300689936, 30352.88075684426, 31288.04498410143, 32161.40297490449, 31815.125958353026, 30791.309821791074, 30352.88075684426, 31883.1300689936, 30352.88075684426, 31883.1300689936, 31883.1300689936, 32161.40297490449, 30351.2962821204, 30352.88075684426, 30352.88075684426, 31844.9425312714, 31529.93980461093, 30352.880756844257, 31883.1300689936, 31844.9425312714, 31883.1300689936, 31883.1300689936, 31844.9425312714, 31844.942531271405, 31883.1300689936, 31883.1300689936, 31844.9425312714, 31883.1300689936, 31883.1300689936, 31883.1300689936, 31807.599130178754, 30535.942341420527, 31423.201163201593, 30352.88075684426, 30535.942341420527, 29968.192968404474, 30352.88075684426, 31883.1300689936, 31883.1300689936, 30352.88075684426, 30352.88075684426, 31813.932987736225, 31883.1300689936, 30352.88075684426, 30352.88075684426, 31883.1300689936, 31529.93980461093, 30891.55787578942, 32161.40297490449, 32161.40297490449, 31815.125958353026, 32161.40297490449, 31883.1300689936, 29759.858615278194, 31883.1300689936, 31883.1300689936, 31844.9425312714, 30351.296282120402, 30352.880756844257, 30727.04018863755, 30891.55787578942, 31668.037497829107, 31386.420646129005, 30352.88075684426, 31691.94209445415, 31514.87929721661, 31883.1300689936, 30352.88075684426, 30656.406826064307, 31883.1300689936, 31529.93980461093, 30352.88075684426, 31815.125958353026, 31883.1300689936, 31883.1300689936, 30352.88075684426, 30352.88075684426, 30791.309821791074, 31266.544923797683, 32161.40297490449, 31844.9425312714, 31883.1300689936, 31883.1300689936, 31883.1300689936, 31808.21271052182, 30080.10810192458, 31640.954142879757, 30603.019134714847, 31691.94209445415, 30535.942341420527, 30352.88075684426, 31691.94209445415, 30352.88075684426, 32161.40297490449, 30685.144618520513, 30534.357866696668, 31844.9425312714, 32161.40297490449, 30352.88075684426, 31883.1300689936, 30698.448925772962, 31844.9425312714, 32161.40297490449, 30220.96876575442, 31807.599130178754, 31883.1300689936, 31883.1300689936, 31975.048522857516, 31883.1300689936, 31883.1300689936, 31883.1300689936, 32855.280213469676, 32855.280213469676, 32161.40297490449, 30545.096421350332, 31384.03033495613, 32994.531672502824, 32994.531672502824, 31883.1300689936, 30873.59166883, 32855.280213469676, 31807.599130178754, 31917.473073547226, 30352.88075684426, 30321.565920415964, 30899.528761780915, 31782.616621641537, 31883.1300689936, 31756.06115156154, 31910.9945015323, 31238.355472887335, 30535.942341420523, 32029.843629189658, 30352.88075684426, 31529.93980461093, 31691.94209445415, 31197.797743496074, 30891.55787578942, 30709.78425987641, 32915.79829993459, 29954.985818037243, 31694.179230843765, 31602.507381558058, 30709.78425987641, 30459.01677730158, 31670.1230802959, 32812.124104630755, 30352.88075684426, 30352.88075684426, 30472.29385679826, 30352.88075684426, 29469.080386194644, 32812.124104630755, 31883.1300689936, 31815.125958353026, 30622.02198546929, 30534.357866696668, 31250.41313765283, 30348.069999060368, 30352.88075684426, 30352.88075684426, 31691.94209445415, 31691.94209445415, 30352.88075684426, 31813.932987736225, 30778.49354677399, 32855.280213469676, 30345.4602875363, 31694.179230843765, 29901.441524353922, 30321.565920415964, 31739.959579168004, 30352.88075684426, 30539.929825667372, 30352.88075684426, 30126.316420377876, 31910.9945015323, 31477.63836029867, 33216.75428818163, 31807.599130178754, 30971.533762736544, 31883.1300689936, 30345.4602875363, 30352.88075684426, 30535.942341420527, 30326.457436781868, 31883.1300689936, 30352.88075684426, 30352.88075684426, 30891.55787578942, 31691.94209445415, 30352.88075684426]\n"
     ]
    }
   ],
   "source": [
    "caminos = caminos1[:]\n",
    "longitudes = longitudes1[:]\n",
    "caminos.extend(caminos2)\n",
    "caminos.extend(caminos3)\n",
    "caminos.extend(caminos4)\n",
    "caminos.extend(caminos5)\n",
    "caminos.extend(caminos6)\n",
    "caminos.extend(caminos7)\n",
    "caminos.extend(caminos8)\n",
    "caminos.extend(caminos9)\n",
    "caminos.extend(caminos10)\n",
    "caminos.extend(caminos11)\n",
    "caminos.extend(caminos12)\n",
    "caminos.extend(caminos13)\n",
    "caminos.extend(caminos14)\n",
    "caminos.extend(caminos15)\n",
    "caminos.extend(caminos16)\n",
    "caminos.extend(caminos17)\n",
    "caminos.extend(caminos18)\n",
    "caminos.extend(caminos19)\n",
    "caminos.extend(caminos20)\n",
    "caminos.extend(caminos21)\n",
    "caminos.extend(caminos22)\n",
    "caminos.extend(caminos23)\n",
    "caminos.extend(caminos24)\n",
    "caminos.extend(caminos25)\n",
    "caminos.extend(caminos26)\n",
    "caminos.extend(caminos27)\n",
    "caminos.extend(caminos28)\n",
    "longitudes.extend(longitudes2)\n",
    "longitudes.extend(longitudes3)\n",
    "longitudes.extend(longitudes4)\n",
    "longitudes.extend(longitudes5)\n",
    "longitudes.extend(longitudes6)\n",
    "longitudes.extend(longitudes7)\n",
    "longitudes.extend(longitudes8)\n",
    "longitudes.extend(longitudes9)\n",
    "longitudes.extend(longitudes10)\n",
    "longitudes.extend(longitudes11)\n",
    "longitudes.extend(longitudes12)\n",
    "longitudes.extend(longitudes13)\n",
    "longitudes.extend(longitudes14)\n",
    "longitudes.extend(longitudes15)\n",
    "longitudes.extend(longitudes16)\n",
    "longitudes.extend(longitudes17)\n",
    "longitudes.extend(longitudes18)\n",
    "longitudes.extend(longitudes19)\n",
    "longitudes.extend(longitudes20)\n",
    "longitudes.extend(longitudes21)\n",
    "longitudes.extend(longitudes22)\n",
    "longitudes.extend(longitudes23)\n",
    "longitudes.extend(longitudes24)\n",
    "longitudes.extend(longitudes25)\n",
    "longitudes.extend(longitudes26)\n",
    "longitudes.extend(longitudes27)\n",
    "longitudes.extend(longitudes28)\n",
    "print(caminos)\n",
    "print(longitudes)"
   ]
  },
  {
   "cell_type": "code",
   "execution_count": 88,
   "metadata": {},
   "outputs": [],
   "source": [
    "i_min = []\n",
    "for i,l in enumerate(longitudes):\n",
    "    if len(i_min)<6:\n",
    "        i_min.append(i)\n",
    "    else:\n",
    "        maximo = longitudes[i_min[0]]\n",
    "        pos = 0\n",
    "        for j in range(1,6):\n",
    "            if longitudes[i_min[j]]>maximo:\n",
    "                maximo = longitudes[i_min[j]]\n",
    "                pos = j\n",
    "              \n",
    "        \n",
    "        if l<maximo:\n",
    "            i_min[pos]= i"
   ]
  },
  {
   "cell_type": "markdown",
   "metadata": {},
   "source": [
    "### Obtenemos las posiciones de los caminos más cortos y los pintamos"
   ]
  },
  {
   "cell_type": "code",
   "execution_count": 89,
   "metadata": {},
   "outputs": [
    {
     "data": {
      "text/plain": [
       "[37, 55, 113, 211, 200, 229]"
      ]
     },
     "execution_count": 89,
     "metadata": {},
     "output_type": "execute_result"
    }
   ],
   "source": [
    "i_min"
   ]
  },
  {
   "cell_type": "code",
   "execution_count": 104,
   "metadata": {},
   "outputs": [],
   "source": [
    "infos = []\n",
    "for m in num_hormigas:\n",
    "    for r in rho:\n",
    "        for a in alpha:\n",
    "            for Q in q:\n",
    "                for b in beta:\n",
    "                    info =[m,r,a,Q,b]\n",
    "                    infos.append(info)"
   ]
  },
  {
   "cell_type": "code",
   "execution_count": 105,
   "metadata": {},
   "outputs": [
    {
     "name": "stdout",
     "output_type": "stream",
     "text": [
      "29881.981999188767\n",
      "[5, 0.25, 0.1, 0.3, 1]\n"
     ]
    },
    {
     "data": {
      "image/png": "[encoded data removed]",
      "text/plain": [
       "<Figure size 432x288 with 1 Axes>"
      ]
     },
     "metadata": {
      "needs_background": "light"
     },
     "output_type": "display_data"
    },
    {
     "name": "stdout",
     "output_type": "stream",
     "text": [
      "29863.25398663174\n",
      "[5, 0.5, 0.05, 0.3, 1]\n"
     ]
    },
    {
     "data": {
      "image/png": "[encoded data removed]",
      "text/plain": [
       "<Figure size 432x288 with 1 Axes>"
      ]
     },
     "metadata": {
      "needs_background": "light"
     },
     "output_type": "display_data"
    },
    {
     "name": "stdout",
     "output_type": "stream",
     "text": [
      "29759.858615278194\n",
      "[10, 0.25, 0.05, 0.6, 2]\n"
     ]
    },
    {
     "data": {
      "image/png": "[encoded data removed]",
      "text/plain": [
       "<Figure size 432x288 with 1 Axes>"
      ]
     },
     "metadata": {
      "needs_background": "light"
     },
     "output_type": "display_data"
    },
    {
     "name": "stdout",
     "output_type": "stream",
     "text": [
      "29469.080386194644\n",
      "[20, 0.25, 0.35, 0.6, 1]\n"
     ]
    },
    {
     "data": {
      "image/png": "[encoded data removed]",
      "text/plain": [
       "<Figure size 432x288 with 1 Axes>"
      ]
     },
     "metadata": {
      "needs_background": "light"
     },
     "output_type": "display_data"
    },
    {
     "name": "stdout",
     "output_type": "stream",
     "text": [
      "29954.985818037243\n",
      "[20, 0.25, 0.1, 0.3, 2]\n"
     ]
    },
    {
     "data": {
      "image/png": "[encoded data removed]",
      "text/plain": [
       "<Figure size 432x288 with 1 Axes>"
      ]
     },
     "metadata": {
      "needs_background": "light"
     },
     "output_type": "display_data"
    },
    {
     "name": "stdout",
     "output_type": "stream",
     "text": [
      "29901.441524353922\n",
      "[20, 0.5, 0.1, 0.6, 1]\n"
     ]
    },
    {
     "data": {
      "image/png": "[encoded data removed]",
      "text/plain": [
       "<Figure size 432x288 with 1 Axes>"
      ]
     },
     "metadata": {
      "needs_background": "light"
     },
     "output_type": "display_data"
    }
   ],
   "source": [
    "for i in i_min:\n",
    "    print(longitudes[i])\n",
    "    print(infos[i])\n",
    "    pintar(positions,caminos[i])"
   ]
  },
  {
   "cell_type": "code",
   "execution_count": null,
   "metadata": {},
   "outputs": [],
   "source": []
  }
 ],
 "metadata": {
  "kernelspec": {
   "display_name": "Python 3",
   "language": "python",
   "name": "python3"
  },
  "language_info": {
   "codemirror_mode": {
    "name": "ipython",
    "version": 3
   },
   "file_extension": ".py",
   "mimetype": "text/x-python",
   "name": "python",
   "nbconvert_exporter": "python",
   "pygments_lexer": "ipython3",
   "version": "3.8.5"
  }
 },
 "nbformat": 4,
 "nbformat_minor": 4
}
